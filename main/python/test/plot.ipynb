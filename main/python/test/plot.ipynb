{
 "cells": [
  {
   "cell_type": "code",
   "execution_count": 1,
   "metadata": {},
   "outputs": [],
   "source": [
    "import matplotlib.pyplot as plt\n",
    "import json\n",
    "\n",
    "file = open('./data.json', 'r')\n",
    "data = json.load(file)\n",
    "\n",
    "parsed = {}\n",
    "final = {}\n",
    "for algorithm in data[list(data.keys())[0]]:\n",
    "    for i in list(data.keys()):\n",
    "        if algorithm not in parsed:\n",
    "            parsed[algorithm] = {}\n",
    "        parsed[algorithm][i] = data[i][algorithm]\n",
    "        final[algorithm] = {\"x\":[], \"y\":[]}\n",
    "        for length in parsed[algorithm]:\n",
    "            final[algorithm][\"x\"].append(length)\n",
    "            final[algorithm][\"y\"].append(round(sum(parsed[algorithm][length])/len(parsed[algorithm][length]),3))"
   ]
  },
  {
   "cell_type": "code",
   "execution_count": null,
   "metadata": {},
   "outputs": [],
   "source": [
    "fig, ax = plt.subplots()\n",
    "\n",
    "ratio = 16/9\n",
    "size = 5\n",
    "fig.set_size_inches(size*ratio, size)\n",
    "fig.set_dpi(300)\n",
    "\n",
    "for algorithm in final:\n",
    "    # if algorithm != \"bubble sort\" and algorithm != \"insertion sort\" and algorithm != \"selection sort\":\n",
    "    #     ax.plot(final[algorithm][\"x\"], final[algorithm][\"y\"], label = algorithm).\n",
    "    ax.plot(final[algorithm][\"x\"], final[algorithm][\"y\"], label = algorithm)\n",
    "\n",
    "\n",
    "ax.legend()\n",
    "plt.show()"
   ]
  }
 ],
 "metadata": {
  "kernelspec": {
   "display_name": "Python 3.8.10 64-bit",
   "language": "python",
   "name": "python3"
  },
  "language_info": {
   "codemirror_mode": {
    "name": "ipython",
    "version": 3
   },
   "file_extension": ".py",
   "mimetype": "text/x-python",
   "name": "python",
   "nbconvert_exporter": "python",
   "pygments_lexer": "ipython3",
   "version": "3.8.10"
  },
  "orig_nbformat": 4,
  "vscode": {
   "interpreter": {
    "hash": "916dbcbb3f70747c44a77c7bcd40155683ae19c65e1c03b4aa3499c5328201f1"
   }
  }
 },
 "nbformat": 4,
 "nbformat_minor": 2
}
